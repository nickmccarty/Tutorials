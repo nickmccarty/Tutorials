{
 "cells": [
  {
   "cell_type": "markdown",
   "metadata": {},
   "source": [
    "### There are three imports required, the first two being for our web scraper, and the third one for the analysis of the data we scrape"
   ]
  },
  {
   "cell_type": "code",
   "execution_count": 1,
   "metadata": {},
   "outputs": [],
   "source": [
    "from splinter import Browser\n",
    "from bs4 import BeautifulSoup\n",
    "import pandas as pd"
   ]
  },
  {
   "cell_type": "markdown",
   "metadata": {},
   "source": [
    "### Establish path that your computer can use to find chromedriver.exe, which this script assumes is in the same folder as this notebook."
   ]
  },
  {
   "cell_type": "markdown",
   "metadata": {},
   "source": [
    "#### Mac Users"
   ]
  },
  {
   "cell_type": "code",
   "execution_count": null,
   "metadata": {},
   "outputs": [],
   "source": [
    "# # https://splinter.readthedocs.io/en/latest/drivers/chrome.html\n",
    "# !which chromedriver"
   ]
  },
  {
   "cell_type": "code",
   "execution_count": null,
   "metadata": {},
   "outputs": [],
   "source": [
    "# executable_path = {'executable_path': '/usr/local/bin/chromedriver'}\n",
    "# browser = Browser('chrome', **executable_path, headless=False)"
   ]
  },
  {
   "cell_type": "markdown",
   "metadata": {},
   "source": [
    "#### Windows Users"
   ]
  },
  {
   "cell_type": "code",
   "execution_count": 88,
   "metadata": {},
   "outputs": [],
   "source": [
    "executable_path = {'executable_path': 'chromedriver.exe'}\n",
    "browser = Browser('chrome', **executable_path, headless=False)"
   ]
  },
  {
   "cell_type": "markdown",
   "metadata": {},
   "source": [
    "### Establish base URL from which to scrape open positions, and use it to define our browser"
   ]
  },
  {
   "cell_type": "code",
   "execution_count": 89,
   "metadata": {},
   "outputs": [],
   "source": [
    "url = 'https://careers.zillowgroup.com/List-Jobs/location/San-francisco/'\n",
    "browser.visit(url)"
   ]
  },
  {
   "cell_type": "markdown",
   "metadata": {},
   "source": [
    "### Each job posting is a \"td\" element injected into the page. We know this from right-clicking on the page itself and clicking on \"Inspect\" (or pressing Ctrl+Shift+I), and then clicking on the box-and-arrow icon seen in the top-left corcer of the image below, next to the word \"Elements\" underlined in blue. This is the \"Inspect Element\" tool in the Chrome Browser web developer toolkit, which allows you to understand how each element of any web page fits into the overall structure of the page. We can use the information we gain by using the Inspect Element tool to pull what we are seeking for analysis."
   ]
  },
  {
   "cell_type": "markdown",
   "metadata": {},
   "source": [
    "![](Images/Job_Posting.png)"
   ]
  },
  {
   "cell_type": "markdown",
   "metadata": {},
   "source": [
    "### The \"page-turner\" was created with a text descriptor (\"arrow-e\"), which we will use to, well, turn the page and continue scraping."
   ]
  },
  {
   "cell_type": "markdown",
   "metadata": {},
   "source": [
    "![](Images/Arrow.png)"
   ]
  },
  {
   "cell_type": "markdown",
   "metadata": {},
   "source": [
    "### Parse all job titles from page, print page number and job titles, stick them in a list, \"click\" next page arrow, and repeat until the end of page 10."
   ]
  },
  {
   "cell_type": "code",
   "execution_count": 114,
   "metadata": {},
   "outputs": [
    {
     "name": "stdout",
     "output_type": "stream",
     "text": [
      "page: 1 -------------\n",
      "DevOps Manager\n",
      "page: 1 -------------\n",
      "DevOps Engineer\n",
      "page: 1 -------------\n",
      "Associate Visual Designer (contract)\n",
      "page: 1 -------------\n",
      "Principal Applied Scientist - Document Understanding AI\n",
      "page: 1 -------------\n",
      "Senior Technical Recruiter\n",
      "page: 1 -------------\n",
      "Principal Software Engineer (Trulia Shopping API Team)\n",
      "page: 1 -------------\n",
      "Senior Software Engineer (Trulia Shopping API Team)\n",
      "page: 1 -------------\n",
      "Director of Product & Engineering\n",
      "page: 1 -------------\n",
      "Senior Software Engineer, Android\n",
      "page: 2 -------------\n",
      "DevOps Manager\n",
      "page: 2 -------------\n",
      "DevOps Engineer\n",
      "page: 2 -------------\n",
      "Associate Visual Designer (contract)\n",
      "page: 2 -------------\n",
      "Principal Applied Scientist - Document Understanding AI\n",
      "page: 2 -------------\n",
      "Senior Technical Recruiter\n",
      "page: 2 -------------\n",
      "Principal Software Engineer (Trulia Shopping API Team)\n",
      "page: 2 -------------\n",
      "Senior Software Engineer (Trulia Shopping API Team)\n",
      "page: 2 -------------\n",
      "Director of Product & Engineering\n",
      "page: 2 -------------\n",
      "Senior Software Engineer, Android\n",
      "page: 3 -------------\n",
      "DevOps Manager\n",
      "page: 3 -------------\n",
      "DevOps Engineer\n",
      "page: 3 -------------\n",
      "Associate Visual Designer (contract)\n",
      "page: 3 -------------\n",
      "Principal Applied Scientist - Document Understanding AI\n",
      "page: 3 -------------\n",
      "Senior Technical Recruiter\n",
      "page: 3 -------------\n",
      "Principal Software Engineer (Trulia Shopping API Team)\n",
      "page: 3 -------------\n",
      "Senior Software Engineer (Trulia Shopping API Team)\n",
      "page: 3 -------------\n",
      "Director of Product & Engineering\n",
      "page: 3 -------------\n",
      "Senior Software Engineer, Android\n",
      "page: 4 -------------\n",
      "DevOps Manager\n",
      "page: 4 -------------\n",
      "DevOps Engineer\n",
      "page: 4 -------------\n",
      "Associate Visual Designer (contract)\n",
      "page: 4 -------------\n",
      "Principal Applied Scientist - Document Understanding AI\n",
      "page: 4 -------------\n",
      "Senior Technical Recruiter\n",
      "page: 4 -------------\n",
      "Principal Software Engineer (Trulia Shopping API Team)\n",
      "page: 4 -------------\n",
      "Senior Software Engineer (Trulia Shopping API Team)\n",
      "page: 4 -------------\n",
      "Director of Product & Engineering\n",
      "page: 4 -------------\n",
      "Senior Software Engineer, Android\n",
      "page: 5 -------------\n",
      "DevOps Manager\n",
      "page: 5 -------------\n",
      "DevOps Engineer\n",
      "page: 5 -------------\n",
      "Associate Visual Designer (contract)\n",
      "page: 5 -------------\n",
      "Principal Applied Scientist - Document Understanding AI\n",
      "page: 5 -------------\n",
      "Senior Technical Recruiter\n",
      "page: 5 -------------\n",
      "Principal Software Engineer (Trulia Shopping API Team)\n",
      "page: 5 -------------\n",
      "Senior Software Engineer (Trulia Shopping API Team)\n",
      "page: 5 -------------\n",
      "Director of Product & Engineering\n",
      "page: 5 -------------\n",
      "Senior Software Engineer, Android\n",
      "page: 6 -------------\n",
      "DevOps Manager\n",
      "page: 6 -------------\n",
      "DevOps Engineer\n",
      "page: 6 -------------\n",
      "Associate Visual Designer (contract)\n",
      "page: 6 -------------\n",
      "Principal Applied Scientist - Document Understanding AI\n",
      "page: 6 -------------\n",
      "Senior Technical Recruiter\n",
      "page: 6 -------------\n",
      "Principal Software Engineer (Trulia Shopping API Team)\n",
      "page: 6 -------------\n",
      "Senior Software Engineer (Trulia Shopping API Team)\n",
      "page: 6 -------------\n",
      "Director of Product & Engineering\n",
      "page: 6 -------------\n",
      "Senior Software Engineer, Android\n",
      "page: 7 -------------\n",
      "DevOps Manager\n",
      "page: 7 -------------\n",
      "DevOps Engineer\n",
      "page: 7 -------------\n",
      "Associate Visual Designer (contract)\n",
      "page: 7 -------------\n",
      "Principal Applied Scientist - Document Understanding AI\n",
      "page: 7 -------------\n",
      "Senior Technical Recruiter\n",
      "page: 7 -------------\n",
      "Principal Software Engineer (Trulia Shopping API Team)\n",
      "page: 7 -------------\n",
      "Senior Software Engineer (Trulia Shopping API Team)\n",
      "page: 7 -------------\n",
      "Director of Product & Engineering\n",
      "page: 7 -------------\n",
      "Senior Software Engineer, Android\n",
      "page: 8 -------------\n",
      "DevOps Manager\n",
      "page: 8 -------------\n",
      "DevOps Engineer\n",
      "page: 8 -------------\n",
      "Associate Visual Designer (contract)\n",
      "page: 8 -------------\n",
      "Principal Applied Scientist - Document Understanding AI\n",
      "page: 8 -------------\n",
      "Senior Technical Recruiter\n",
      "page: 8 -------------\n",
      "Principal Software Engineer (Trulia Shopping API Team)\n",
      "page: 8 -------------\n",
      "Senior Software Engineer (Trulia Shopping API Team)\n",
      "page: 8 -------------\n",
      "Director of Product & Engineering\n",
      "page: 8 -------------\n",
      "Senior Software Engineer, Android\n",
      "page: 9 -------------\n",
      "DevOps Manager\n",
      "page: 9 -------------\n",
      "DevOps Engineer\n",
      "page: 9 -------------\n",
      "Associate Visual Designer (contract)\n",
      "page: 9 -------------\n",
      "Principal Applied Scientist - Document Understanding AI\n",
      "page: 9 -------------\n",
      "Senior Technical Recruiter\n",
      "page: 9 -------------\n",
      "Principal Software Engineer (Trulia Shopping API Team)\n",
      "page: 9 -------------\n",
      "Senior Software Engineer (Trulia Shopping API Team)\n",
      "page: 9 -------------\n",
      "Director of Product & Engineering\n",
      "page: 9 -------------\n",
      "Senior Software Engineer, Android\n",
      "page: 10 -------------\n",
      "DevOps Manager\n",
      "page: 10 -------------\n",
      "DevOps Engineer\n",
      "page: 10 -------------\n",
      "Associate Visual Designer (contract)\n",
      "page: 10 -------------\n",
      "Principal Applied Scientist - Document Understanding AI\n",
      "page: 10 -------------\n",
      "Senior Technical Recruiter\n",
      "page: 10 -------------\n",
      "Principal Software Engineer (Trulia Shopping API Team)\n",
      "page: 10 -------------\n",
      "Senior Software Engineer (Trulia Shopping API Team)\n",
      "page: 10 -------------\n",
      "Director of Product & Engineering\n",
      "page: 10 -------------\n",
      "Senior Software Engineer, Android\n"
     ]
    }
   ],
   "source": [
    "titles = []\n",
    "\n",
    "for x in range(1, 11):\n",
    "\n",
    "    html = browser.html\n",
    "    soup = BeautifulSoup(html, 'html.parser')\n",
    "\n",
    "    quotes = soup.find_all('td', class_='JobTitle-cell')\n",
    "\n",
    "    for quote in quotes:\n",
    "        print('page:', x, '-------------')\n",
    "        print(quote.text)\n",
    "        titles.append(quote.text)\n",
    "\n",
    "    browser.click_link_by_partial_text('arrow-e')"
   ]
  },
  {
   "cell_type": "markdown",
   "metadata": {},
   "source": [
    "### Let's take a peek at what we have so far. It's not that beautiful or as helpful as it could be yet, but we will clean it up and arrive at some insights shortly."
   ]
  },
  {
   "cell_type": "code",
   "execution_count": 116,
   "metadata": {},
   "outputs": [
    {
     "data": {
      "text/html": [
       "<div>\n",
       "<style scoped>\n",
       "    .dataframe tbody tr th:only-of-type {\n",
       "        vertical-align: middle;\n",
       "    }\n",
       "\n",
       "    .dataframe tbody tr th {\n",
       "        vertical-align: top;\n",
       "    }\n",
       "\n",
       "    .dataframe thead th {\n",
       "        text-align: right;\n",
       "    }\n",
       "</style>\n",
       "<table border=\"1\" class=\"dataframe\">\n",
       "  <thead>\n",
       "    <tr style=\"text-align: right;\">\n",
       "      <th></th>\n",
       "      <th>0</th>\n",
       "    </tr>\n",
       "  </thead>\n",
       "  <tbody>\n",
       "    <tr>\n",
       "      <th>0</th>\n",
       "      <td>DevOps Manager</td>\n",
       "    </tr>\n",
       "    <tr>\n",
       "      <th>1</th>\n",
       "      <td>DevOps Engineer</td>\n",
       "    </tr>\n",
       "    <tr>\n",
       "      <th>2</th>\n",
       "      <td>Associate Visual Designer (contract)</td>\n",
       "    </tr>\n",
       "    <tr>\n",
       "      <th>3</th>\n",
       "      <td>Principal Applied Scientist - Document Underst...</td>\n",
       "    </tr>\n",
       "    <tr>\n",
       "      <th>4</th>\n",
       "      <td>Senior Technical Recruiter</td>\n",
       "    </tr>\n",
       "  </tbody>\n",
       "</table>\n",
       "</div>"
      ],
      "text/plain": [
       "                                                   0\n",
       "0                                     DevOps Manager\n",
       "1                                    DevOps Engineer\n",
       "2               Associate Visual Designer (contract)\n",
       "3  Principal Applied Scientist - Document Underst...\n",
       "4                         Senior Technical Recruiter"
      ]
     },
     "execution_count": 116,
     "metadata": {},
     "output_type": "execute_result"
    }
   ],
   "source": [
    "titles = pd.DataFrame(titles)\n",
    "titles.head(5)"
   ]
  },
  {
   "cell_type": "markdown",
   "metadata": {},
   "source": [
    "### Rename column and create a new one with counts of job titles"
   ]
  },
  {
   "cell_type": "code",
   "execution_count": 117,
   "metadata": {},
   "outputs": [
    {
     "data": {
      "text/html": [
       "<div>\n",
       "<style scoped>\n",
       "    .dataframe tbody tr th:only-of-type {\n",
       "        vertical-align: middle;\n",
       "    }\n",
       "\n",
       "    .dataframe tbody tr th {\n",
       "        vertical-align: top;\n",
       "    }\n",
       "\n",
       "    .dataframe thead th {\n",
       "        text-align: right;\n",
       "    }\n",
       "</style>\n",
       "<table border=\"1\" class=\"dataframe\">\n",
       "  <thead>\n",
       "    <tr style=\"text-align: right;\">\n",
       "      <th></th>\n",
       "      <th>Job Title</th>\n",
       "      <th>Count</th>\n",
       "    </tr>\n",
       "  </thead>\n",
       "  <tbody>\n",
       "    <tr>\n",
       "      <th>0</th>\n",
       "      <td>Associate Visual Designer (contract)</td>\n",
       "      <td>10</td>\n",
       "    </tr>\n",
       "    <tr>\n",
       "      <th>1</th>\n",
       "      <td>DevOps Engineer</td>\n",
       "      <td>10</td>\n",
       "    </tr>\n",
       "    <tr>\n",
       "      <th>2</th>\n",
       "      <td>DevOps Manager</td>\n",
       "      <td>10</td>\n",
       "    </tr>\n",
       "    <tr>\n",
       "      <th>3</th>\n",
       "      <td>Director of Product &amp; Engineering</td>\n",
       "      <td>10</td>\n",
       "    </tr>\n",
       "    <tr>\n",
       "      <th>4</th>\n",
       "      <td>Principal Applied Scientist - Document Underst...</td>\n",
       "      <td>10</td>\n",
       "    </tr>\n",
       "  </tbody>\n",
       "</table>\n",
       "</div>"
      ],
      "text/plain": [
       "                                           Job Title  Count\n",
       "0               Associate Visual Designer (contract)     10\n",
       "1                                    DevOps Engineer     10\n",
       "2                                     DevOps Manager     10\n",
       "3                  Director of Product & Engineering     10\n",
       "4  Principal Applied Scientist - Document Underst...     10"
      ]
     },
     "execution_count": 117,
     "metadata": {},
     "output_type": "execute_result"
    }
   ],
   "source": [
    "titles = titles.rename({0 : 'Job Title'}, axis = 1)\n",
    "titles = pd.DataFrame(titles.groupby('Job Title')['Job Title'].count())\n",
    "titles = titles.rename({'Job Title' : 'Count'}, axis = 1)\n",
    "titles = titles.reset_index()\n",
    "titles = titles.sort_values('Count', ascending = False)\n",
    "titles.head(5)"
   ]
  },
  {
   "cell_type": "markdown",
   "metadata": {},
   "source": [
    "### How many job titles were scraped?"
   ]
  },
  {
   "cell_type": "code",
   "execution_count": 123,
   "metadata": {},
   "outputs": [
    {
     "data": {
      "text/plain": [
       "90"
      ]
     },
     "execution_count": 123,
     "metadata": {},
     "output_type": "execute_result"
    }
   ],
   "source": [
    "titles.Count.sum()"
   ]
  },
  {
   "cell_type": "markdown",
   "metadata": {},
   "source": [
    "### How many contain the word (or abbreviation for) \"senior\"?"
   ]
  },
  {
   "cell_type": "code",
   "execution_count": 119,
   "metadata": {},
   "outputs": [
    {
     "data": {
      "text/plain": [
       "30"
      ]
     },
     "execution_count": 119,
     "metadata": {},
     "output_type": "execute_result"
    }
   ],
   "source": [
    "senior_count = titles[(titles['Job Title'].str.contains('Senior')) | (titles['Job Title'].str.contains('Sr.'))]\n",
    "senior_count.Count.sum()"
   ]
  },
  {
   "cell_type": "markdown",
   "metadata": {},
   "source": [
    "### Meaning that 60 shouldn't..."
   ]
  },
  {
   "cell_type": "code",
   "execution_count": 120,
   "metadata": {},
   "outputs": [
    {
     "data": {
      "text/plain": [
       "60"
      ]
     },
     "execution_count": 120,
     "metadata": {},
     "output_type": "execute_result"
    }
   ],
   "source": [
    "junior_count = titles[~titles.isin(senior_count)].dropna()\n",
    "int(junior_count.Count.sum())"
   ]
  },
  {
   "cell_type": "markdown",
   "metadata": {},
   "source": [
    "### Excellent. Let's see what we've got:"
   ]
  },
  {
   "cell_type": "code",
   "execution_count": 121,
   "metadata": {},
   "outputs": [
    {
     "data": {
      "text/html": [
       "<div>\n",
       "<style scoped>\n",
       "    .dataframe tbody tr th:only-of-type {\n",
       "        vertical-align: middle;\n",
       "    }\n",
       "\n",
       "    .dataframe tbody tr th {\n",
       "        vertical-align: top;\n",
       "    }\n",
       "\n",
       "    .dataframe thead th {\n",
       "        text-align: right;\n",
       "    }\n",
       "</style>\n",
       "<table border=\"1\" class=\"dataframe\">\n",
       "  <thead>\n",
       "    <tr style=\"text-align: right;\">\n",
       "      <th></th>\n",
       "      <th>Job Title</th>\n",
       "      <th>Count</th>\n",
       "    </tr>\n",
       "  </thead>\n",
       "  <tbody>\n",
       "    <tr>\n",
       "      <th>0</th>\n",
       "      <td>Associate Visual Designer (contract)</td>\n",
       "      <td>10.0</td>\n",
       "    </tr>\n",
       "    <tr>\n",
       "      <th>1</th>\n",
       "      <td>DevOps Engineer</td>\n",
       "      <td>10.0</td>\n",
       "    </tr>\n",
       "    <tr>\n",
       "      <th>2</th>\n",
       "      <td>DevOps Manager</td>\n",
       "      <td>10.0</td>\n",
       "    </tr>\n",
       "    <tr>\n",
       "      <th>3</th>\n",
       "      <td>Director of Product &amp; Engineering</td>\n",
       "      <td>10.0</td>\n",
       "    </tr>\n",
       "    <tr>\n",
       "      <th>4</th>\n",
       "      <td>Principal Applied Scientist - Document Underst...</td>\n",
       "      <td>10.0</td>\n",
       "    </tr>\n",
       "    <tr>\n",
       "      <th>5</th>\n",
       "      <td>Principal Software Engineer (Trulia Shopping A...</td>\n",
       "      <td>10.0</td>\n",
       "    </tr>\n",
       "  </tbody>\n",
       "</table>\n",
       "</div>"
      ],
      "text/plain": [
       "                                           Job Title  Count\n",
       "0               Associate Visual Designer (contract)   10.0\n",
       "1                                    DevOps Engineer   10.0\n",
       "2                                     DevOps Manager   10.0\n",
       "3                  Director of Product & Engineering   10.0\n",
       "4  Principal Applied Scientist - Document Underst...   10.0\n",
       "5  Principal Software Engineer (Trulia Shopping A...   10.0"
      ]
     },
     "execution_count": 121,
     "metadata": {},
     "output_type": "execute_result"
    }
   ],
   "source": [
    "junior_count"
   ]
  },
  {
   "cell_type": "markdown",
   "metadata": {},
   "source": [
    "### How many Data Analyst positions??"
   ]
  },
  {
   "cell_type": "code",
   "execution_count": 122,
   "metadata": {},
   "outputs": [
    {
     "data": {
      "text/plain": [
       "0"
      ]
     },
     "execution_count": 122,
     "metadata": {},
     "output_type": "execute_result"
    }
   ],
   "source": [
    "len(titles[titles['Job Title'].str.contains('Data Analyst')])"
   ]
  },
  {
   "cell_type": "markdown",
   "metadata": {},
   "source": [
    "### Oh, okay. Next."
   ]
  }
 ],
 "metadata": {
  "kernelspec": {
   "display_name": "Python 3",
   "language": "python",
   "name": "python3"
  },
  "language_info": {
   "codemirror_mode": {
    "name": "ipython",
    "version": 3
   },
   "file_extension": ".py",
   "mimetype": "text/x-python",
   "name": "python",
   "nbconvert_exporter": "python",
   "pygments_lexer": "ipython3",
   "version": "3.6.8"
  },
  "varInspector": {
   "cols": {
    "lenName": 16,
    "lenType": 16,
    "lenVar": 40
   },
   "kernels_config": {
    "python": {
     "delete_cmd_postfix": "",
     "delete_cmd_prefix": "del ",
     "library": "var_list.py",
     "varRefreshCmd": "print(var_dic_list())"
    },
    "r": {
     "delete_cmd_postfix": ") ",
     "delete_cmd_prefix": "rm(",
     "library": "var_list.r",
     "varRefreshCmd": "cat(var_dic_list()) "
    }
   },
   "types_to_exclude": [
    "module",
    "function",
    "builtin_function_or_method",
    "instance",
    "_Feature"
   ],
   "window_display": false
  }
 },
 "nbformat": 4,
 "nbformat_minor": 2
}
